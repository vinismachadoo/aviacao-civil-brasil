{
  "nbformat": 4,
  "nbformat_minor": 0,
  "metadata": {
    "colab": {
      "name": "controle_estatistico_voos.ipynb",
      "provenance": [],
      "include_colab_link": true
    },
    "kernelspec": {
      "name": "python3",
      "display_name": "Python 3"
    }
  },
  "cells": [
    {
      "cell_type": "markdown",
      "metadata": {
        "id": "view-in-github",
        "colab_type": "text"
      },
      "source": [
        "<a href=\"https://colab.research.google.com/github/vinismachadoo/aviacao_civil_brasil/blob/main/controle_estatistico_voos.ipynb\" target=\"_parent\"><img src=\"https://colab.research.google.com/assets/colab-badge.svg\" alt=\"Open In Colab\"/></a>"
      ]
    },
    {
      "cell_type": "code",
      "metadata": {
        "id": "e_6V3wutCh6x"
      },
      "source": [
        "!pip install kaggle --quiet"
      ],
      "execution_count": 1,
      "outputs": []
    },
    {
      "cell_type": "code",
      "metadata": {
        "id": "bsHQBpx9D2Jn",
        "outputId": "0c3e8d7a-98a0-4567-dff7-0ef3904f263d",
        "colab": {
          "resources": {
            "http://localhost:8080/nbextensions/google.colab/files.js": {
              "data": "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",
              "ok": true,
              "headers": [
                [
                  "content-type",
                  "application/javascript"
                ]
              ],
              "status": 200,
              "status_text": ""
            }
          },
          "base_uri": "https://localhost:8080/",
          "height": 89
        }
      },
      "source": [
        "from google.colab import files\n",
        "\n",
        "uploaded = files.upload()\n",
        "\n",
        "for fn in uploaded.keys():\n",
        "  print('User uploaded file \"{name}\" with length {length} bytes'.format(\n",
        "      name=fn, length=len(uploaded[fn])))\n",
        "  \n",
        "# Then move kaggle.json into the folder where the API expects to find it.\n",
        "!mkdir -p ~/.kaggle/ && mv kaggle.json ~/.kaggle/ && chmod 600 ~/.kaggle/kaggle.json"
      ],
      "execution_count": 2,
      "outputs": [
        {
          "output_type": "display_data",
          "data": {
            "text/html": [
              "\n",
              "     <input type=\"file\" id=\"files-cb84d369-2e1e-45e3-8af3-faa322d1554b\" name=\"files[]\" multiple disabled\n",
              "        style=\"border:none\" />\n",
              "     <output id=\"result-cb84d369-2e1e-45e3-8af3-faa322d1554b\">\n",
              "      Upload widget is only available when the cell has been executed in the\n",
              "      current browser session. Please rerun this cell to enable.\n",
              "      </output>\n",
              "      <script src=\"/nbextensions/google.colab/files.js\"></script> "
            ],
            "text/plain": [
              "<IPython.core.display.HTML object>"
            ]
          },
          "metadata": {
            "tags": []
          }
        },
        {
          "output_type": "stream",
          "text": [
            "Saving kaggle.json to kaggle.json\n",
            "User uploaded file \"kaggle.json\" with length 69 bytes\n"
          ],
          "name": "stdout"
        }
      ]
    },
    {
      "cell_type": "code",
      "metadata": {
        "id": "5VHXre3oEWuo",
        "outputId": "ae31970f-cf95-4a92-c75a-0060566c501d",
        "colab": {
          "base_uri": "https://localhost:8080/",
          "height": 68
        }
      },
      "source": [
        "!kaggle datasets download -d ramirobentes/flights-in-brazil"
      ],
      "execution_count": 3,
      "outputs": [
        {
          "output_type": "stream",
          "text": [
            "Downloading flights-in-brazil.zip to /content\n",
            " 92% 73.0M/79.3M [00:03<00:00, 17.4MB/s]\n",
            "100% 79.3M/79.3M [00:03<00:00, 23.0MB/s]\n"
          ],
          "name": "stdout"
        }
      ]
    },
    {
      "cell_type": "code",
      "metadata": {
        "id": "WIMUn8SZEhXH",
        "outputId": "bf8e7c07-d5de-4da9-b602-5a6c0e3dbaf3",
        "colab": {
          "base_uri": "https://localhost:8080/",
          "height": 68
        }
      },
      "source": [
        "!unzip flights-in-brazil.zip"
      ],
      "execution_count": 4,
      "outputs": [
        {
          "output_type": "stream",
          "text": [
            "Archive:  flights-in-brazil.zip\n",
            "  inflating: BrFlights2.csv          \n",
            "  inflating: BrFlights2/BrFlights2.csv  \n"
          ],
          "name": "stdout"
        }
      ]
    },
    {
      "cell_type": "code",
      "metadata": {
        "id": "lejdphLdFBX6",
        "outputId": "7f38b1bf-64da-4d34-b4ce-c7e99f5bfc71",
        "colab": {
          "base_uri": "https://localhost:8080/",
          "height": 68
        }
      },
      "source": [
        "!pip install geopandas --quiet"
      ],
      "execution_count": 5,
      "outputs": [
        {
          "output_type": "stream",
          "text": [
            "\u001b[K     |████████████████████████████████| 972kB 1.4MB/s \n",
            "\u001b[K     |████████████████████████████████| 10.9MB 373kB/s \n",
            "\u001b[K     |████████████████████████████████| 14.8MB 313kB/s \n",
            "\u001b[?25h"
          ],
          "name": "stdout"
        }
      ]
    },
    {
      "cell_type": "code",
      "metadata": {
        "id": "qGS2767iEsZr",
        "outputId": "07e360c4-7037-4bbf-e166-8efc1067229b",
        "colab": {
          "base_uri": "https://localhost:8080/",
          "height": 71
        }
      },
      "source": [
        "import pandas as pd\n",
        "import matplotlib.pyplot as plt\n",
        "import numpy as np\n",
        "import geopandas as gpd\n",
        "import seaborn as sns\n",
        "from matplotlib.cbook import boxplot_stats\n",
        "import os\n",
        "import statsmodels.api as sm\n",
        "from scipy import stats\n",
        "from statsmodels.formula.api import ols\n",
        "from statsmodels.stats.anova import anova_lm"
      ],
      "execution_count": 6,
      "outputs": [
        {
          "output_type": "stream",
          "text": [
            "/usr/local/lib/python3.6/dist-packages/statsmodels/tools/_testing.py:19: FutureWarning: pandas.util.testing is deprecated. Use the functions in the public API at pandas.testing instead.\n",
            "  import pandas.util.testing as tm\n"
          ],
          "name": "stderr"
        }
      ]
    },
    {
      "cell_type": "code",
      "metadata": {
        "id": "_a-w4-2BFKFU"
      },
      "source": [
        "voos_brasil = pd.read_csv('BrFlights2.csv', encoding='ISO-8859-1')"
      ],
      "execution_count": 8,
      "outputs": []
    },
    {
      "cell_type": "code",
      "metadata": {
        "id": "K3uKol6LYe0d"
      },
      "source": [
        "#Escolhemos trabalhar apenas com voos regionais e nacionais, portanto deletando quaisquer origem ou destino internacional\n",
        "voos_brasil = voos_brasil[~voos_brasil['Codigo.Tipo.Linha'].isin(['Internacional'])]"
      ],
      "execution_count": 9,
      "outputs": []
    },
    {
      "cell_type": "code",
      "metadata": {
        "id": "BljMQuG_Om_W",
        "outputId": "2879102e-2a54-4db0-c4c8-7d9280163be2",
        "colab": {
          "base_uri": "https://localhost:8080/",
          "height": 34
        }
      },
      "source": [
        "voos_brasil.shape"
      ],
      "execution_count": 10,
      "outputs": [
        {
          "output_type": "execute_result",
          "data": {
            "text/plain": [
              "(2221559, 21)"
            ]
          },
          "metadata": {
            "tags": []
          },
          "execution_count": 10
        }
      ]
    },
    {
      "cell_type": "code",
      "metadata": {
        "id": "e0olHxFDYLlz",
        "outputId": "d2f82fd7-65f9-4b23-faca-70f8be7cfce7",
        "colab": {
          "base_uri": "https://localhost:8080/",
          "height": 394
        }
      },
      "source": [
        "voos_brasil.head()"
      ],
      "execution_count": 11,
      "outputs": [
        {
          "output_type": "execute_result",
          "data": {
            "text/html": [
              "<div>\n",
              "<style scoped>\n",
              "    .dataframe tbody tr th:only-of-type {\n",
              "        vertical-align: middle;\n",
              "    }\n",
              "\n",
              "    .dataframe tbody tr th {\n",
              "        vertical-align: top;\n",
              "    }\n",
              "\n",
              "    .dataframe thead th {\n",
              "        text-align: right;\n",
              "    }\n",
              "</style>\n",
              "<table border=\"1\" class=\"dataframe\">\n",
              "  <thead>\n",
              "    <tr style=\"text-align: right;\">\n",
              "      <th></th>\n",
              "      <th>Voos</th>\n",
              "      <th>Companhia.Aerea</th>\n",
              "      <th>Codigo.Tipo.Linha</th>\n",
              "      <th>Partida.Prevista</th>\n",
              "      <th>Partida.Real</th>\n",
              "      <th>Chegada.Prevista</th>\n",
              "      <th>Chegada.Real</th>\n",
              "      <th>Situacao.Voo</th>\n",
              "      <th>Codigo.Justificativa</th>\n",
              "      <th>Aeroporto.Origem</th>\n",
              "      <th>Cidade.Origem</th>\n",
              "      <th>Estado.Origem</th>\n",
              "      <th>Pais.Origem</th>\n",
              "      <th>Aeroporto.Destino</th>\n",
              "      <th>Cidade.Destino</th>\n",
              "      <th>Estado.Destino</th>\n",
              "      <th>Pais.Destino</th>\n",
              "      <th>LongDest</th>\n",
              "      <th>LatDest</th>\n",
              "      <th>LongOrig</th>\n",
              "      <th>LatOrig</th>\n",
              "    </tr>\n",
              "  </thead>\n",
              "  <tbody>\n",
              "    <tr>\n",
              "      <th>2659</th>\n",
              "      <td>AZU - 2400</td>\n",
              "      <td>AZUL</td>\n",
              "      <td>Regional</td>\n",
              "      <td>2016-01-18T08:25:00Z</td>\n",
              "      <td>NaN</td>\n",
              "      <td>2016-01-18T09:32:00Z</td>\n",
              "      <td>NaN</td>\n",
              "      <td>Cancelado</td>\n",
              "      <td>AUTORIZADO</td>\n",
              "      <td>Guarulhos - Governador Andre Franco Montoro</td>\n",
              "      <td>Guarulhos</td>\n",
              "      <td>SP</td>\n",
              "      <td>Brasil</td>\n",
              "      <td>Santos Dumont</td>\n",
              "      <td>Rio De Janeiro</td>\n",
              "      <td>RJ</td>\n",
              "      <td>Brasil</td>\n",
              "      <td>-43.164876</td>\n",
              "      <td>-22.911144</td>\n",
              "      <td>-46.478126</td>\n",
              "      <td>-23.434553</td>\n",
              "    </tr>\n",
              "    <tr>\n",
              "      <th>2660</th>\n",
              "      <td>AZU - 2400</td>\n",
              "      <td>AZUL</td>\n",
              "      <td>Regional</td>\n",
              "      <td>2016-01-26T08:25:00Z</td>\n",
              "      <td>NaN</td>\n",
              "      <td>2016-01-26T09:32:00Z</td>\n",
              "      <td>NaN</td>\n",
              "      <td>Cancelado</td>\n",
              "      <td>AUTORIZADO</td>\n",
              "      <td>Guarulhos - Governador Andre Franco Montoro</td>\n",
              "      <td>Guarulhos</td>\n",
              "      <td>SP</td>\n",
              "      <td>Brasil</td>\n",
              "      <td>Santos Dumont</td>\n",
              "      <td>Rio De Janeiro</td>\n",
              "      <td>RJ</td>\n",
              "      <td>Brasil</td>\n",
              "      <td>-43.164876</td>\n",
              "      <td>-22.911144</td>\n",
              "      <td>-46.478126</td>\n",
              "      <td>-23.434553</td>\n",
              "    </tr>\n",
              "    <tr>\n",
              "      <th>2661</th>\n",
              "      <td>AZU - 2400</td>\n",
              "      <td>AZUL</td>\n",
              "      <td>Regional</td>\n",
              "      <td>2016-01-22T08:25:00Z</td>\n",
              "      <td>NaN</td>\n",
              "      <td>2016-01-22T09:32:00Z</td>\n",
              "      <td>NaN</td>\n",
              "      <td>Cancelado</td>\n",
              "      <td>AUTORIZADO</td>\n",
              "      <td>Guarulhos - Governador Andre Franco Montoro</td>\n",
              "      <td>Guarulhos</td>\n",
              "      <td>SP</td>\n",
              "      <td>Brasil</td>\n",
              "      <td>Santos Dumont</td>\n",
              "      <td>Rio De Janeiro</td>\n",
              "      <td>RJ</td>\n",
              "      <td>Brasil</td>\n",
              "      <td>-43.164876</td>\n",
              "      <td>-22.911144</td>\n",
              "      <td>-46.478126</td>\n",
              "      <td>-23.434553</td>\n",
              "    </tr>\n",
              "    <tr>\n",
              "      <th>2662</th>\n",
              "      <td>AZU - 2400</td>\n",
              "      <td>AZUL</td>\n",
              "      <td>Regional</td>\n",
              "      <td>2016-01-16T08:25:00Z</td>\n",
              "      <td>NaN</td>\n",
              "      <td>2016-01-16T09:32:00Z</td>\n",
              "      <td>NaN</td>\n",
              "      <td>Cancelado</td>\n",
              "      <td>CANCELAMENTO - AEROPORTO DESTINO ABAIXO LIMITES</td>\n",
              "      <td>Guarulhos - Governador Andre Franco Montoro</td>\n",
              "      <td>Guarulhos</td>\n",
              "      <td>SP</td>\n",
              "      <td>Brasil</td>\n",
              "      <td>Santos Dumont</td>\n",
              "      <td>Rio De Janeiro</td>\n",
              "      <td>RJ</td>\n",
              "      <td>Brasil</td>\n",
              "      <td>-43.164876</td>\n",
              "      <td>-22.911144</td>\n",
              "      <td>-46.478126</td>\n",
              "      <td>-23.434553</td>\n",
              "    </tr>\n",
              "    <tr>\n",
              "      <th>2663</th>\n",
              "      <td>AZU - 2400</td>\n",
              "      <td>AZUL</td>\n",
              "      <td>Regional</td>\n",
              "      <td>2016-01-01T08:25:00Z</td>\n",
              "      <td>NaN</td>\n",
              "      <td>2016-01-01T09:32:00Z</td>\n",
              "      <td>NaN</td>\n",
              "      <td>Cancelado</td>\n",
              "      <td>AUTORIZADO</td>\n",
              "      <td>Guarulhos - Governador Andre Franco Montoro</td>\n",
              "      <td>Guarulhos</td>\n",
              "      <td>SP</td>\n",
              "      <td>Brasil</td>\n",
              "      <td>Santos Dumont</td>\n",
              "      <td>Rio De Janeiro</td>\n",
              "      <td>RJ</td>\n",
              "      <td>Brasil</td>\n",
              "      <td>-43.164876</td>\n",
              "      <td>-22.911144</td>\n",
              "      <td>-46.478126</td>\n",
              "      <td>-23.434553</td>\n",
              "    </tr>\n",
              "  </tbody>\n",
              "</table>\n",
              "</div>"
            ],
            "text/plain": [
              "            Voos Companhia.Aerea  ...   LongOrig    LatOrig\n",
              "2659  AZU - 2400            AZUL  ... -46.478126 -23.434553\n",
              "2660  AZU - 2400            AZUL  ... -46.478126 -23.434553\n",
              "2661  AZU - 2400            AZUL  ... -46.478126 -23.434553\n",
              "2662  AZU - 2400            AZUL  ... -46.478126 -23.434553\n",
              "2663  AZU - 2400            AZUL  ... -46.478126 -23.434553\n",
              "\n",
              "[5 rows x 21 columns]"
            ]
          },
          "metadata": {
            "tags": []
          },
          "execution_count": 11
        }
      ]
    },
    {
      "cell_type": "code",
      "metadata": {
        "id": "8PmbT2R7MvRZ"
      },
      "source": [
        "#Acertando as colunas com dia e hora para formato datetime\n",
        "voos_brasil['Partida.Prevista'] = pd.to_datetime(voos_brasil['Partida.Prevista'], format=\"%Y-%m-%dT%H:%M:%SZ\")\n",
        "voos_brasil['Partida.Real'] = pd.to_datetime(voos_brasil['Partida.Real'], format=\"%Y-%m-%dT%H:%M:%SZ\")\n",
        "voos_brasil['Chegada.Prevista'] = pd.to_datetime(voos_brasil['Chegada.Prevista'], format=\"%Y-%m-%dT%H:%M:%SZ\")\n",
        "voos_brasil['Chegada.Real'] = pd.to_datetime(voos_brasil['Chegada.Real'], format=\"%Y-%m-%dT%H:%M:%SZ\")"
      ],
      "execution_count": 12,
      "outputs": []
    },
    {
      "cell_type": "code",
      "metadata": {
        "id": "d8JhzERqdqpp"
      },
      "source": [
        "#Novas colunas com o dia da semana do voo\n",
        "voos_brasil['Partida.Prevista.Dia.Semana'] = voos_brasil['Partida.Prevista'].dt.day_name()\n",
        "voos_brasil['Partida.Real.Dia.Semana'] = voos_brasil['Partida.Real'].dt.day_name()\n",
        "voos_brasil['Chegada.Prevista.Dia.Semana'] = voos_brasil['Chegada.Prevista'].dt.day_name()\n",
        "voos_brasil['Chegada.Real.Dia.Semana'] = voos_brasil['Chegada.Real'].dt.day_name()"
      ],
      "execution_count": 13,
      "outputs": []
    },
    {
      "cell_type": "code",
      "metadata": {
        "id": "h2Vse5cHPBsy"
      },
      "source": [
        "#Dissecando o status 'Realizado' em 3: 'Atrasado', 'Adiantado' ou 'Em ponto'\n",
        "voos_brasil.loc[voos_brasil['Partida.Real'] > voos_brasil['Partida.Prevista'], 'Situacao.Voo'] = 'Atrasado'\n",
        "voos_brasil.loc[voos_brasil['Partida.Real'] < voos_brasil['Partida.Prevista'], 'Situacao.Voo'] = 'Adiantado'\n",
        "voos_brasil['Situacao.Voo'].replace({'Realizado': 'Em ponto'}, inplace=True)"
      ],
      "execution_count": 14,
      "outputs": []
    },
    {
      "cell_type": "code",
      "metadata": {
        "id": "PYGSQEusPXEC",
        "outputId": "deeb61a1-94f3-4a90-e15d-7f7dca169320",
        "colab": {
          "base_uri": "https://localhost:8080/",
          "height": 102
        }
      },
      "source": [
        "voos_brasil['Situacao.Voo'].value_counts()"
      ],
      "execution_count": 15,
      "outputs": [
        {
          "output_type": "execute_result",
          "data": {
            "text/plain": [
              "Em ponto     1284055\n",
              "Adiantado     351045\n",
              "Atrasado      311179\n",
              "Cancelado     275280\n",
              "Name: Situacao.Voo, dtype: int64"
            ]
          },
          "metadata": {
            "tags": []
          },
          "execution_count": 15
        }
      ]
    },
    {
      "cell_type": "code",
      "metadata": {
        "id": "sWZo9nfo8qvE"
      },
      "source": [
        "#Agrupando por dia da semana e status do voo\n",
        "situacao_por_dia_semana = voos_brasil.groupby(['Partida.Prevista.Dia.Semana'])['Situacao.Voo'].value_counts().unstack().reindex(['Monday', 'Tuesday', 'Wednesday', 'Thursday', 'Friday', 'Saturday', 'Sunday'])"
      ],
      "execution_count": 16,
      "outputs": []
    },
    {
      "cell_type": "code",
      "metadata": {
        "id": "7S3K0MUV8qvL",
        "outputId": "679500f8-c669-4b77-e8d4-ac4d44ea8085",
        "colab": {
          "base_uri": "https://localhost:8080/",
          "height": 297
        }
      },
      "source": [
        "situacao_por_dia_semana"
      ],
      "execution_count": 17,
      "outputs": [
        {
          "output_type": "execute_result",
          "data": {
            "text/html": [
              "<div>\n",
              "<style scoped>\n",
              "    .dataframe tbody tr th:only-of-type {\n",
              "        vertical-align: middle;\n",
              "    }\n",
              "\n",
              "    .dataframe tbody tr th {\n",
              "        vertical-align: top;\n",
              "    }\n",
              "\n",
              "    .dataframe thead th {\n",
              "        text-align: right;\n",
              "    }\n",
              "</style>\n",
              "<table border=\"1\" class=\"dataframe\">\n",
              "  <thead>\n",
              "    <tr style=\"text-align: right;\">\n",
              "      <th>Situacao.Voo</th>\n",
              "      <th>Adiantado</th>\n",
              "      <th>Atrasado</th>\n",
              "      <th>Cancelado</th>\n",
              "      <th>Em ponto</th>\n",
              "    </tr>\n",
              "    <tr>\n",
              "      <th>Partida.Prevista.Dia.Semana</th>\n",
              "      <th></th>\n",
              "      <th></th>\n",
              "      <th></th>\n",
              "      <th></th>\n",
              "    </tr>\n",
              "  </thead>\n",
              "  <tbody>\n",
              "    <tr>\n",
              "      <th>Monday</th>\n",
              "      <td>54037</td>\n",
              "      <td>50515</td>\n",
              "      <td>39389</td>\n",
              "      <td>198265</td>\n",
              "    </tr>\n",
              "    <tr>\n",
              "      <th>Tuesday</th>\n",
              "      <td>53950</td>\n",
              "      <td>42607</td>\n",
              "      <td>43186</td>\n",
              "      <td>189861</td>\n",
              "    </tr>\n",
              "    <tr>\n",
              "      <th>Wednesday</th>\n",
              "      <td>53753</td>\n",
              "      <td>45220</td>\n",
              "      <td>42680</td>\n",
              "      <td>190972</td>\n",
              "    </tr>\n",
              "    <tr>\n",
              "      <th>Thursday</th>\n",
              "      <td>51608</td>\n",
              "      <td>53002</td>\n",
              "      <td>40419</td>\n",
              "      <td>192276</td>\n",
              "    </tr>\n",
              "    <tr>\n",
              "      <th>Friday</th>\n",
              "      <td>50503</td>\n",
              "      <td>57062</td>\n",
              "      <td>40822</td>\n",
              "      <td>195760</td>\n",
              "    </tr>\n",
              "    <tr>\n",
              "      <th>Saturday</th>\n",
              "      <td>40212</td>\n",
              "      <td>29436</td>\n",
              "      <td>35777</td>\n",
              "      <td>149728</td>\n",
              "    </tr>\n",
              "    <tr>\n",
              "      <th>Sunday</th>\n",
              "      <td>46982</td>\n",
              "      <td>33337</td>\n",
              "      <td>33007</td>\n",
              "      <td>167193</td>\n",
              "    </tr>\n",
              "  </tbody>\n",
              "</table>\n",
              "</div>"
            ],
            "text/plain": [
              "Situacao.Voo                 Adiantado  Atrasado  Cancelado  Em ponto\n",
              "Partida.Prevista.Dia.Semana                                          \n",
              "Monday                           54037     50515      39389    198265\n",
              "Tuesday                          53950     42607      43186    189861\n",
              "Wednesday                        53753     45220      42680    190972\n",
              "Thursday                         51608     53002      40419    192276\n",
              "Friday                           50503     57062      40822    195760\n",
              "Saturday                         40212     29436      35777    149728\n",
              "Sunday                           46982     33337      33007    167193"
            ]
          },
          "metadata": {
            "tags": []
          },
          "execution_count": 17
        }
      ]
    },
    {
      "cell_type": "code",
      "metadata": {
        "id": "CMu-WBpt8qvO",
        "outputId": "e5460174-a98d-4d1f-c7fc-e08797502d44",
        "colab": {
          "base_uri": "https://localhost:8080/",
          "height": 343
        }
      },
      "source": [
        "situacao_por_dia_semana.plot(kind='bar', stacked=True, title='Quantidade de voos por dia da semana', colormap='Set3_r')\n",
        "plt.show()"
      ],
      "execution_count": 18,
      "outputs": [
        {
          "output_type": "display_data",
          "data": {
            "image/png": "[encoded data removed]",
            "text/plain": [
              "<Figure size 432x288 with 1 Axes>"
            ]
          },
          "metadata": {
            "tags": [],
            "needs_background": "light"
          }
        }
      ]
    },
    {
      "cell_type": "code",
      "metadata": {
        "id": "Fr5i3QmZP5zJ"
      },
      "source": [
        "#Quantidade de voos por companhia dividido por status do voo\n",
        "situacao_por_companhia = voos_brasil.groupby(['Companhia.Aerea'])['Situacao.Voo'].value_counts().unstack()\n",
        "situacao_por_companhia = situacao_por_companhia.assign(tmp=situacao_por_companhia.sum(axis=1)).sort_values('tmp', ascending=True).drop('tmp', 1)"
      ],
      "execution_count": 19,
      "outputs": []
    },
    {
      "cell_type": "code",
      "metadata": {
        "id": "PIdo6nyLgKCs",
        "outputId": "6251acba-d147-4566-c8dc-ac1080befe16",
        "colab": {
          "base_uri": "https://localhost:8080/",
          "height": 390
        }
      },
      "source": [
        "situacao_por_companhia"
      ],
      "execution_count": 20,
      "outputs": [
        {
          "output_type": "execute_result",
          "data": {
            "text/html": [
              "<div>\n",
              "<style scoped>\n",
              "    .dataframe tbody tr th:only-of-type {\n",
              "        vertical-align: middle;\n",
              "    }\n",
              "\n",
              "    .dataframe tbody tr th {\n",
              "        vertical-align: top;\n",
              "    }\n",
              "\n",
              "    .dataframe thead th {\n",
              "        text-align: right;\n",
              "    }\n",
              "</style>\n",
              "<table border=\"1\" class=\"dataframe\">\n",
              "  <thead>\n",
              "    <tr style=\"text-align: right;\">\n",
              "      <th>Situacao.Voo</th>\n",
              "      <th>Adiantado</th>\n",
              "      <th>Atrasado</th>\n",
              "      <th>Cancelado</th>\n",
              "      <th>Em ponto</th>\n",
              "    </tr>\n",
              "    <tr>\n",
              "      <th>Companhia.Aerea</th>\n",
              "      <th></th>\n",
              "      <th></th>\n",
              "      <th></th>\n",
              "      <th></th>\n",
              "    </tr>\n",
              "  </thead>\n",
              "  <tbody>\n",
              "    <tr>\n",
              "      <th>TRIP</th>\n",
              "      <td>NaN</td>\n",
              "      <td>NaN</td>\n",
              "      <td>NaN</td>\n",
              "      <td>10.0</td>\n",
              "    </tr>\n",
              "    <tr>\n",
              "      <th>TOTAL</th>\n",
              "      <td>599.0</td>\n",
              "      <td>697.0</td>\n",
              "      <td>16.0</td>\n",
              "      <td>3.0</td>\n",
              "    </tr>\n",
              "    <tr>\n",
              "      <th>FLYWAYS</th>\n",
              "      <td>30.0</td>\n",
              "      <td>151.0</td>\n",
              "      <td>473.0</td>\n",
              "      <td>1352.0</td>\n",
              "    </tr>\n",
              "    <tr>\n",
              "      <th>SETE</th>\n",
              "      <td>224.0</td>\n",
              "      <td>1693.0</td>\n",
              "      <td>511.0</td>\n",
              "      <td>5292.0</td>\n",
              "    </tr>\n",
              "    <tr>\n",
              "      <th>MAP LINHAS AEREAS</th>\n",
              "      <td>1940.0</td>\n",
              "      <td>1516.0</td>\n",
              "      <td>666.0</td>\n",
              "      <td>11553.0</td>\n",
              "    </tr>\n",
              "    <tr>\n",
              "      <th>PASSAREDO</th>\n",
              "      <td>2845.0</td>\n",
              "      <td>16537.0</td>\n",
              "      <td>12331.0</td>\n",
              "      <td>38723.0</td>\n",
              "    </tr>\n",
              "    <tr>\n",
              "      <th>AVIANCA BRASIL</th>\n",
              "      <td>9267.0</td>\n",
              "      <td>31835.0</td>\n",
              "      <td>5995.0</td>\n",
              "      <td>136282.0</td>\n",
              "    </tr>\n",
              "    <tr>\n",
              "      <th>TAM</th>\n",
              "      <td>20222.0</td>\n",
              "      <td>68413.0</td>\n",
              "      <td>39589.0</td>\n",
              "      <td>357192.0</td>\n",
              "    </tr>\n",
              "    <tr>\n",
              "      <th>GOL</th>\n",
              "      <td>13265.0</td>\n",
              "      <td>86542.0</td>\n",
              "      <td>109850.0</td>\n",
              "      <td>510733.0</td>\n",
              "    </tr>\n",
              "    <tr>\n",
              "      <th>AZUL</th>\n",
              "      <td>302653.0</td>\n",
              "      <td>103795.0</td>\n",
              "      <td>105849.0</td>\n",
              "      <td>222915.0</td>\n",
              "    </tr>\n",
              "  </tbody>\n",
              "</table>\n",
              "</div>"
            ],
            "text/plain": [
              "Situacao.Voo       Adiantado  Atrasado  Cancelado  Em ponto\n",
              "Companhia.Aerea                                            \n",
              "TRIP                     NaN       NaN        NaN      10.0\n",
              "TOTAL                  599.0     697.0       16.0       3.0\n",
              "FLYWAYS                 30.0     151.0      473.0    1352.0\n",
              "SETE                   224.0    1693.0      511.0    5292.0\n",
              "MAP LINHAS AEREAS     1940.0    1516.0      666.0   11553.0\n",
              "PASSAREDO             2845.0   16537.0    12331.0   38723.0\n",
              "AVIANCA BRASIL        9267.0   31835.0     5995.0  136282.0\n",
              "TAM                  20222.0   68413.0    39589.0  357192.0\n",
              "GOL                  13265.0   86542.0   109850.0  510733.0\n",
              "AZUL                302653.0  103795.0   105849.0  222915.0"
            ]
          },
          "metadata": {
            "tags": []
          },
          "execution_count": 20
        }
      ]
    },
    {
      "cell_type": "code",
      "metadata": {
        "id": "dfZosmciha7z",
        "outputId": "9dbb8f9a-711d-4d16-cf5f-4fff62679c6c",
        "colab": {
          "base_uri": "https://localhost:8080/",
          "height": 281
        }
      },
      "source": [
        "situacao_por_companhia.plot(kind='barh', stacked=True, title='Quantidade de voos por companhia aérea', colormap='Set3_r')\n",
        "plt.show()"
      ],
      "execution_count": 21,
      "outputs": [
        {
          "output_type": "display_data",
          "data": {
            "image/png": "[encoded data removed]",
            "text/plain": [
              "<Figure size 432x288 with 1 Axes>"
            ]
          },
          "metadata": {
            "tags": [],
            "needs_background": "light"
          }
        }
      ]
    },
    {
      "cell_type": "code",
      "metadata": {
        "id": "n8W2HTL6-ExT"
      },
      "source": [
        "#Usaremos só as 4 maiores companhias nacionais pois as demais não apresentam relevância\n",
        "voos_brasil = voos_brasil[voos_brasil['Companhia.Aerea'].isin(['AZUL','GOL','TAM','AVIANCA BRASIL'])]"
      ],
      "execution_count": 22,
      "outputs": []
    },
    {
      "cell_type": "code",
      "metadata": {
        "id": "_iY66pYMSDQs"
      },
      "source": [
        "#10 maiores aeroportos por quantidade absoluta de voo\n",
        "situacao_por_aeroporto_origem = voos_brasil.groupby(['Aeroporto.Origem'])['Situacao.Voo'].value_counts().unstack()\n",
        "situacao_por_aeroporto_origem = situacao_por_aeroporto_origem.assign(tmp=situacao_por_aeroporto_origem.sum(axis=1)).sort_values('tmp', ascending=True).drop('tmp', 1)"
      ],
      "execution_count": 23,
      "outputs": []
    },
    {
      "cell_type": "code",
      "metadata": {
        "id": "OcFuCyulvySb"
      },
      "source": [
        "situacao_por_aeroporto_origem = situacao_por_aeroporto_origem[['Atrasado','Adiantado','Cancelado','Em ponto']]"
      ],
      "execution_count": 24,
      "outputs": []
    },
    {
      "cell_type": "code",
      "metadata": {
        "id": "rDd4Zy_PahE5",
        "outputId": "2539d406-c754-49da-94a4-c0b3702a412f",
        "colab": {
          "base_uri": "https://localhost:8080/",
          "height": 390
        }
      },
      "source": [
        "situacao_por_aeroporto_origem.tail(10)"
      ],
      "execution_count": 25,
      "outputs": [
        {
          "output_type": "execute_result",
          "data": {
            "text/html": [
              "<div>\n",
              "<style scoped>\n",
              "    .dataframe tbody tr th:only-of-type {\n",
              "        vertical-align: middle;\n",
              "    }\n",
              "\n",
              "    .dataframe tbody tr th {\n",
              "        vertical-align: top;\n",
              "    }\n",
              "\n",
              "    .dataframe thead th {\n",
              "        text-align: right;\n",
              "    }\n",
              "</style>\n",
              "<table border=\"1\" class=\"dataframe\">\n",
              "  <thead>\n",
              "    <tr style=\"text-align: right;\">\n",
              "      <th>Situacao.Voo</th>\n",
              "      <th>Atrasado</th>\n",
              "      <th>Adiantado</th>\n",
              "      <th>Cancelado</th>\n",
              "      <th>Em ponto</th>\n",
              "    </tr>\n",
              "    <tr>\n",
              "      <th>Aeroporto.Origem</th>\n",
              "      <th></th>\n",
              "      <th></th>\n",
              "      <th></th>\n",
              "      <th></th>\n",
              "    </tr>\n",
              "  </thead>\n",
              "  <tbody>\n",
              "    <tr>\n",
              "      <th>Salgado Filho</th>\n",
              "      <td>8614.0</td>\n",
              "      <td>15617.0</td>\n",
              "      <td>8424.0</td>\n",
              "      <td>47410.0</td>\n",
              "    </tr>\n",
              "    <tr>\n",
              "      <th>Afonso Pena</th>\n",
              "      <td>9143.0</td>\n",
              "      <td>16186.0</td>\n",
              "      <td>11929.0</td>\n",
              "      <td>44606.0</td>\n",
              "    </tr>\n",
              "    <tr>\n",
              "      <th>Deputado Luis Eduardo Magalhaes</th>\n",
              "      <td>10072.0</td>\n",
              "      <td>8637.0</td>\n",
              "      <td>10730.0</td>\n",
              "      <td>52876.0</td>\n",
              "    </tr>\n",
              "    <tr>\n",
              "      <th>Santos Dumont</th>\n",
              "      <td>14221.0</td>\n",
              "      <td>17527.0</td>\n",
              "      <td>11949.0</td>\n",
              "      <td>51733.0</td>\n",
              "    </tr>\n",
              "    <tr>\n",
              "      <th>Aeroporto Internacional Do Rio De Janeiro/Galeao</th>\n",
              "      <td>17195.0</td>\n",
              "      <td>6296.0</td>\n",
              "      <td>15097.0</td>\n",
              "      <td>84788.0</td>\n",
              "    </tr>\n",
              "    <tr>\n",
              "      <th>Tancredo Neves</th>\n",
              "      <td>19188.0</td>\n",
              "      <td>30600.0</td>\n",
              "      <td>17935.0</td>\n",
              "      <td>67744.0</td>\n",
              "    </tr>\n",
              "    <tr>\n",
              "      <th>Viracopos</th>\n",
              "      <td>24897.0</td>\n",
              "      <td>43833.0</td>\n",
              "      <td>23104.0</td>\n",
              "      <td>59147.0</td>\n",
              "    </tr>\n",
              "    <tr>\n",
              "      <th>Congonhas</th>\n",
              "      <td>24145.0</td>\n",
              "      <td>9048.0</td>\n",
              "      <td>8847.0</td>\n",
              "      <td>120261.0</td>\n",
              "    </tr>\n",
              "    <tr>\n",
              "      <th>Presidente Juscelino Kubitschek</th>\n",
              "      <td>26678.0</td>\n",
              "      <td>11038.0</td>\n",
              "      <td>20673.0</td>\n",
              "      <td>117588.0</td>\n",
              "    </tr>\n",
              "    <tr>\n",
              "      <th>Guarulhos - Governador Andre Franco Montoro</th>\n",
              "      <td>41656.0</td>\n",
              "      <td>19350.0</td>\n",
              "      <td>27251.0</td>\n",
              "      <td>151655.0</td>\n",
              "    </tr>\n",
              "  </tbody>\n",
              "</table>\n",
              "</div>"
            ],
            "text/plain": [
              "Situacao.Voo                                      Atrasado  ...  Em ponto\n",
              "Aeroporto.Origem                                            ...          \n",
              "Salgado Filho                                       8614.0  ...   47410.0\n",
              "Afonso Pena                                         9143.0  ...   44606.0\n",
              "Deputado Luis Eduardo Magalhaes                    10072.0  ...   52876.0\n",
              "Santos Dumont                                      14221.0  ...   51733.0\n",
              "Aeroporto Internacional Do Rio De Janeiro/Galeao   17195.0  ...   84788.0\n",
              "Tancredo Neves                                     19188.0  ...   67744.0\n",
              "Viracopos                                          24897.0  ...   59147.0\n",
              "Congonhas                                          24145.0  ...  120261.0\n",
              "Presidente Juscelino Kubitschek                    26678.0  ...  117588.0\n",
              "Guarulhos - Governador Andre Franco Montoro        41656.0  ...  151655.0\n",
              "\n",
              "[10 rows x 4 columns]"
            ]
          },
          "metadata": {
            "tags": []
          },
          "execution_count": 25
        }
      ]
    },
    {
      "cell_type": "code",
      "metadata": {
        "id": "QhtQdZDaayZW",
        "outputId": "2877755a-b54e-4695-f657-8c20f8ac248c",
        "colab": {
          "base_uri": "https://localhost:8080/",
          "height": 281
        }
      },
      "source": [
        "situacao_por_aeroporto_origem.tail(10).plot(kind='barh', stacked=True, title='TOP 10 aeroportos por decolagem prevista de voos', colormap='Set3_r')\n",
        "plt.show()"
      ],
      "execution_count": 26,
      "outputs": [
        {
          "output_type": "display_data",
          "data": {
            "image/png": "[encoded data removed]",
            "text/plain": [
              "<Figure size 432x288 with 1 Axes>"
            ]
          },
          "metadata": {
            "tags": [],
            "needs_background": "light"
          }
        }
      ]
    },
    {
      "cell_type": "code",
      "metadata": {
        "id": "mS2b8vYwSDoK"
      },
      "source": [
        "#Ordenando os 10 maiores aeroportos por taxa de voos atrasados \n",
        "situacao_por_aeroporto_origem_porcentagem = situacao_por_aeroporto_origem.tail(10).stack().groupby(level=0).apply(lambda x: 100*x / x.sum()).unstack()\n",
        "situacao_por_aeroporto_origem_porcentagem = situacao_por_aeroporto_origem_porcentagem.sort_values(by='Atrasado')"
      ],
      "execution_count": 27,
      "outputs": []
    },
    {
      "cell_type": "code",
      "metadata": {
        "id": "L8N-f7jmSkN2"
      },
      "source": [
        "situacao_por_aeroporto_origem_porcentagem = situacao_por_aeroporto_origem_porcentagem[['Atrasado','Adiantado','Cancelado','Em ponto']]"
      ],
      "execution_count": 28,
      "outputs": []
    },
    {
      "cell_type": "code",
      "metadata": {
        "id": "rSN4LJRjvGau",
        "outputId": "1baabc57-497c-4367-e64b-400efd37c73a",
        "colab": {
          "base_uri": "https://localhost:8080/",
          "height": 390
        }
      },
      "source": [
        "situacao_por_aeroporto_origem_porcentagem"
      ],
      "execution_count": 29,
      "outputs": [
        {
          "output_type": "execute_result",
          "data": {
            "text/html": [
              "<div>\n",
              "<style scoped>\n",
              "    .dataframe tbody tr th:only-of-type {\n",
              "        vertical-align: middle;\n",
              "    }\n",
              "\n",
              "    .dataframe tbody tr th {\n",
              "        vertical-align: top;\n",
              "    }\n",
              "\n",
              "    .dataframe thead th {\n",
              "        text-align: right;\n",
              "    }\n",
              "</style>\n",
              "<table border=\"1\" class=\"dataframe\">\n",
              "  <thead>\n",
              "    <tr style=\"text-align: right;\">\n",
              "      <th>Situacao.Voo</th>\n",
              "      <th>Atrasado</th>\n",
              "      <th>Adiantado</th>\n",
              "      <th>Cancelado</th>\n",
              "      <th>Em ponto</th>\n",
              "    </tr>\n",
              "    <tr>\n",
              "      <th>Aeroporto.Origem</th>\n",
              "      <th></th>\n",
              "      <th></th>\n",
              "      <th></th>\n",
              "      <th></th>\n",
              "    </tr>\n",
              "  </thead>\n",
              "  <tbody>\n",
              "    <tr>\n",
              "      <th>Salgado Filho</th>\n",
              "      <td>10.758759</td>\n",
              "      <td>19.505402</td>\n",
              "      <td>10.521451</td>\n",
              "      <td>59.214388</td>\n",
              "    </tr>\n",
              "    <tr>\n",
              "      <th>Afonso Pena</th>\n",
              "      <td>11.168523</td>\n",
              "      <td>19.771817</td>\n",
              "      <td>14.571729</td>\n",
              "      <td>54.487931</td>\n",
              "    </tr>\n",
              "    <tr>\n",
              "      <th>Deputado Luis Eduardo Magalhaes</th>\n",
              "      <td>12.235923</td>\n",
              "      <td>10.492620</td>\n",
              "      <td>13.035291</td>\n",
              "      <td>64.236166</td>\n",
              "    </tr>\n",
              "    <tr>\n",
              "      <th>Aeroporto Internacional Do Rio De Janeiro/Galeao</th>\n",
              "      <td>13.937070</td>\n",
              "      <td>5.103099</td>\n",
              "      <td>12.236578</td>\n",
              "      <td>68.723252</td>\n",
              "    </tr>\n",
              "    <tr>\n",
              "      <th>Tancredo Neves</th>\n",
              "      <td>14.164335</td>\n",
              "      <td>22.588527</td>\n",
              "      <td>13.239387</td>\n",
              "      <td>50.007751</td>\n",
              "    </tr>\n",
              "    <tr>\n",
              "      <th>Congonhas</th>\n",
              "      <td>14.876680</td>\n",
              "      <td>5.574827</td>\n",
              "      <td>5.450983</td>\n",
              "      <td>74.097510</td>\n",
              "    </tr>\n",
              "    <tr>\n",
              "      <th>Santos Dumont</th>\n",
              "      <td>14.902022</td>\n",
              "      <td>18.366342</td>\n",
              "      <td>12.521220</td>\n",
              "      <td>54.210416</td>\n",
              "    </tr>\n",
              "    <tr>\n",
              "      <th>Presidente Juscelino Kubitschek</th>\n",
              "      <td>15.159936</td>\n",
              "      <td>6.272411</td>\n",
              "      <td>11.747558</td>\n",
              "      <td>66.820096</td>\n",
              "    </tr>\n",
              "    <tr>\n",
              "      <th>Viracopos</th>\n",
              "      <td>16.490154</td>\n",
              "      <td>29.032130</td>\n",
              "      <td>15.302588</td>\n",
              "      <td>39.175128</td>\n",
              "    </tr>\n",
              "    <tr>\n",
              "      <th>Guarulhos - Governador Andre Franco Montoro</th>\n",
              "      <td>17.363033</td>\n",
              "      <td>8.065457</td>\n",
              "      <td>11.358748</td>\n",
              "      <td>63.212761</td>\n",
              "    </tr>\n",
              "  </tbody>\n",
              "</table>\n",
              "</div>"
            ],
            "text/plain": [
              "Situacao.Voo                                       Atrasado  ...   Em ponto\n",
              "Aeroporto.Origem                                             ...           \n",
              "Salgado Filho                                     10.758759  ...  59.214388\n",
              "Afonso Pena                                       11.168523  ...  54.487931\n",
              "Deputado Luis Eduardo Magalhaes                   12.235923  ...  64.236166\n",
              "Aeroporto Internacional Do Rio De Janeiro/Galeao  13.937070  ...  68.723252\n",
              "Tancredo Neves                                    14.164335  ...  50.007751\n",
              "Congonhas                                         14.876680  ...  74.097510\n",
              "Santos Dumont                                     14.902022  ...  54.210416\n",
              "Presidente Juscelino Kubitschek                   15.159936  ...  66.820096\n",
              "Viracopos                                         16.490154  ...  39.175128\n",
              "Guarulhos - Governador Andre Franco Montoro       17.363033  ...  63.212761\n",
              "\n",
              "[10 rows x 4 columns]"
            ]
          },
          "metadata": {
            "tags": []
          },
          "execution_count": 29
        }
      ]
    },
    {
      "cell_type": "code",
      "metadata": {
        "id": "P5dJ5Ul7ThTs",
        "outputId": "64ecc32c-fcac-462b-ed1e-28f2eae0e217",
        "colab": {
          "base_uri": "https://localhost:8080/",
          "height": 281
        }
      },
      "source": [
        "situacao_por_aeroporto_origem_porcentagem.plot(kind='barh', stacked=True, title='TOP 10 aeroportos por voos atrasados', colormap='Set3_r')\n",
        "plt.show()"
      ],
      "execution_count": 30,
      "outputs": [
        {
          "output_type": "display_data",
          "data": {
            "image/png": "[encoded data removed]",
            "text/plain": [
              "<Figure size 432x288 with 1 Axes>"
            ]
          },
          "metadata": {
            "tags": [],
            "needs_background": "light"
          }
        }
      ]
    },
    {
      "cell_type": "code",
      "metadata": {
        "id": "Q4kIQ4PKkU2E"
      },
      "source": [
        "#A partir deste resultado serão escolhidos 3 aeroportos com taxas de atraso parecidas para averiguar se os fatores que interferem on atraso são os mesmos\n",
        "#Aeroportos escolhidos: Juscelino Kubitscheck (BSB, 15.16%), Santos Dumont (SDU, 14.90%) e Congonhas (CGH, 14.88%)"
      ],
      "execution_count": 31,
      "outputs": []
    },
    {
      "cell_type": "code",
      "metadata": {
        "id": "p6a-iPjZ9ege"
      },
      "source": [
        "#filtrando apenas os voos com atrasos positivos\n",
        "voos_brasil_atrasados = voos_brasil[voos_brasil['Situacao.Voo'].isin(['Atrasado'])]"
      ],
      "execution_count": 32,
      "outputs": []
    },
    {
      "cell_type": "code",
      "metadata": {
        "id": "4I94DaSifwWg",
        "outputId": "25953966-3df9-4b10-abe6-995e9a689bba",
        "colab": {
          "base_uri": "https://localhost:8080/",
          "height": 221
        }
      },
      "source": [
        "voos_brasil_atrasados['Partida.Atraso'] = voos_brasil_atrasados['Partida.Real'] - voos_brasil_atrasados['Partida.Prevista']\n",
        "voos_brasil_atrasados['Partida.Atraso'] = voos_brasil_atrasados['Partida.Atraso'].dt.seconds/60\n",
        "voos_brasil_atrasados = voos_brasil_atrasados[voos_brasil_atrasados['Partida.Atraso'] > 0]"
      ],
      "execution_count": 33,
      "outputs": [
        {
          "output_type": "stream",
          "text": [
            "/usr/local/lib/python3.6/dist-packages/ipykernel_launcher.py:1: SettingWithCopyWarning: \n",
            "A value is trying to be set on a copy of a slice from a DataFrame.\n",
            "Try using .loc[row_indexer,col_indexer] = value instead\n",
            "\n",
            "See the caveats in the documentation: https://pandas.pydata.org/pandas-docs/stable/user_guide/indexing.html#returning-a-view-versus-a-copy\n",
            "  \"\"\"Entry point for launching an IPython kernel.\n",
            "/usr/local/lib/python3.6/dist-packages/ipykernel_launcher.py:2: SettingWithCopyWarning: \n",
            "A value is trying to be set on a copy of a slice from a DataFrame.\n",
            "Try using .loc[row_indexer,col_indexer] = value instead\n",
            "\n",
            "See the caveats in the documentation: https://pandas.pydata.org/pandas-docs/stable/user_guide/indexing.html#returning-a-view-versus-a-copy\n",
            "  \n"
          ],
          "name": "stderr"
        }
      ]
    },
    {
      "cell_type": "code",
      "metadata": {
        "id": "OzuT9kK4W-uy",
        "outputId": "9f395d93-5726-4cfd-896c-2b72789cfb1e",
        "colab": {
          "base_uri": "https://localhost:8080/",
          "height": 34
        }
      },
      "source": [
        "voos_brasil_atrasados.shape"
      ],
      "execution_count": 34,
      "outputs": [
        {
          "output_type": "execute_result",
          "data": {
            "text/plain": [
              "(290516, 26)"
            ]
          },
          "metadata": {
            "tags": []
          },
          "execution_count": 34
        }
      ]
    },
    {
      "cell_type": "code",
      "metadata": {
        "id": "vZcQ5oiV69ZA",
        "outputId": "1bf28ab0-c53a-4f32-aba1-7cb6a4432f04",
        "colab": {
          "base_uri": "https://localhost:8080/",
          "height": 295
        }
      },
      "source": [
        "#Detectando outliers atraves de boxplot\n",
        "aeroportos_interesse = voos_brasil_atrasados[voos_brasil_atrasados['Aeroporto.Origem'].isin(['Presidente Juscelino Kubitschek', 'Santos Dumont', 'Congonhas'])]\n",
        "sns.boxplot(x='Partida.Atraso', y='Aeroporto.Origem', data=aeroportos_interesse, palette=\"Accent\")\n",
        "plt.title('Boxplot: Minutos atrasados por aeroporto de origem')\n",
        "plt.show()"
      ],
      "execution_count": 35,
      "outputs": [
        {
          "output_type": "display_data",
          "data": {
            "image/png": "[encoded data removed]",
            "text/plain": [
              "<Figure size 432x288 with 1 Axes>"
            ]
          },
          "metadata": {
            "tags": [],
            "needs_background": "light"
          }
        }
      ]
    },
    {
      "cell_type": "code",
      "metadata": {
        "id": "aMr2I6XMUgwq"
      },
      "source": [
        "#Separando os 3 aeroportos para obter estatisticas individuais\n",
        "bsb = voos_brasil_atrasados[voos_brasil_atrasados['Aeroporto.Origem'] == 'Presidente Juscelino Kubitschek']\n",
        "sdu = voos_brasil_atrasados[voos_brasil_atrasados['Aeroporto.Origem'] == 'Santos Dumont']\n",
        "cgh = voos_brasil_atrasados[voos_brasil_atrasados['Aeroporto.Origem'] == 'Congonhas']"
      ],
      "execution_count": 36,
      "outputs": []
    },
    {
      "cell_type": "code",
      "metadata": {
        "id": "maGEY1-j4v51"
      },
      "source": [
        "box_stats_bsb = boxplot_stats(bsb['Partida.Atraso'])\n",
        "box_stats_sdu = boxplot_stats(sdu['Partida.Atraso'])\n",
        "box_stats_cgh = boxplot_stats(cgh['Partida.Atraso'])"
      ],
      "execution_count": 37,
      "outputs": []
    },
    {
      "cell_type": "code",
      "metadata": {
        "id": "LOZwB1v57eR1"
      },
      "source": [
        "#Mantendo apenas observações dentro de +- 1.5*IQR (critério de outlier de boxplot)\n",
        "bsb = bsb[bsb['Partida.Atraso'] < box_stats_bsb[0]['q3']+1.5*box_stats_bsb[0]['iqr']]\n",
        "sdu = sdu[sdu['Partida.Atraso'] < box_stats_sdu[0]['q3']+1.5*box_stats_sdu[0]['iqr']]\n",
        "cgh = cgh[cgh['Partida.Atraso'] < box_stats_cgh[0]['q3']+1.5*box_stats_cgh[0]['iqr']]"
      ],
      "execution_count": 38,
      "outputs": []
    },
    {
      "cell_type": "code",
      "metadata": {
        "id": "pOx8OUYi1D00",
        "outputId": "cda024f8-1dac-4d77-e731-abbdaf3291fc",
        "colab": {
          "base_uri": "https://localhost:8080/",
          "height": 295
        }
      },
      "source": [
        "#Distribuição das observações após tratamento para cada aeroporto\n",
        "aeroportos_interesse = aeroportos_interesse.loc[bsb.index.to_list() + sdu.index.to_list() + cgh.index.to_list()]\n",
        "sns.violinplot(x='Partida.Atraso', y='Aeroporto.Origem', data=aeroportos_interesse, palette=\"Accent\")\n",
        "plt.title('Distribuição de minutos atrasdos por aeroporto de origem')\n",
        "plt.show()"
      ],
      "execution_count": 39,
      "outputs": [
        {
          "output_type": "display_data",
          "data": {
            "image/png": "[encoded data removed]",
            "text/plain": [
              "<Figure size 432x288 with 1 Axes>"
            ]
          },
          "metadata": {
            "tags": [],
            "needs_background": "light"
          }
        }
      ]
    }
  ]
}